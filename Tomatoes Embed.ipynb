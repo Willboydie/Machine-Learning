{
 "cells": [
  {
   "cell_type": "code",
   "execution_count": 1,
   "id": "7ad4b57d",
   "metadata": {},
   "outputs": [
    {
     "name": "stderr",
     "output_type": "stream",
     "text": [
      "[nltk_data] Downloading package stopwords to C:\\Users\\Will\n",
      "[nltk_data]     Boyd\\AppData\\Roaming\\nltk_data...\n",
      "[nltk_data]   Package stopwords is already up-to-date!\n",
      "[nltk_data] Downloading package punkt to C:\\Users\\Will\n",
      "[nltk_data]     Boyd\\AppData\\Roaming\\nltk_data...\n",
      "[nltk_data]   Package punkt is already up-to-date!\n",
      "[nltk_data] Downloading package wordnet to C:\\Users\\Will\n",
      "[nltk_data]     Boyd\\AppData\\Roaming\\nltk_data...\n",
      "[nltk_data]   Package wordnet is already up-to-date!\n",
      "[nltk_data] Downloading package omw-1.4 to C:\\Users\\Will\n",
      "[nltk_data]     Boyd\\AppData\\Roaming\\nltk_data...\n",
      "[nltk_data]   Package omw-1.4 is already up-to-date!\n"
     ]
    }
   ],
   "source": [
    "import os\n",
    "import pandas as pd\n",
    "import numpy as np\n",
    "import random\n",
    "import sklearn\n",
    "from sklearn import metrics\n",
    "#import tensorflow as tf\n",
    "import matplotlib.pyplot as plt\n",
    "import seaborn as sns\n",
    "import os\n",
    "from sklearn.inspection import PartialDependenceDisplay\n",
    "from sklearn import tree\n",
    "from sklearn.tree import DecisionTreeClassifier, plot_tree\n",
    "from sklearn.tree import export_graphviz\n",
    "from sklearn.model_selection import train_test_split # Import train_test_split function\n",
    "from sklearn import metrics # Import scikit-learn metrics module for accuracy calculation\n",
    "from sklearn import preprocessing # Import preprocessing for String-Int conversion\n",
    "from sklearn.compose import ColumnTransformer\n",
    "from sklearn.preprocessing import OneHotEncoder, StandardScaler, MinMaxScaler\n",
    "from sklearn.model_selection import train_test_split\n",
    "from sklearn.ensemble import RandomForestClassifier\n",
    "from sklearn.metrics import confusion_matrix,ConfusionMatrixDisplay\n",
    "from sklearn.model_selection import GridSearchCV\n",
    "from sklearn.naive_bayes import MultinomialNB\n",
    "from sklearn.linear_model import LogisticRegression\n",
    "from sklearn.metrics import accuracy_score\n",
    "import re\n",
    "import nltk\n",
    "nltk.download('stopwords')\n",
    "nltk.download('punkt')\n",
    "from nltk.corpus import stopwords\n",
    "from nltk.tokenize import word_tokenize\n",
    "from sklearn.feature_extraction.text import CountVectorizer\n",
    "from nltk.stem import WordNetLemmatizer\n",
    "import nltk\n",
    "nltk.download('wordnet')\n",
    "nltk.download('omw-1.4')\n",
    "from collections import Counter\n",
    "import itertools"
   ]
  },
  {
   "cell_type": "code",
   "execution_count": 2,
   "id": "ece0f6d5",
   "metadata": {},
   "outputs": [
    {
     "name": "stdout",
     "output_type": "stream",
     "text": [
      "       feature  sentiment  label\n",
      "0            !    0.50000      0\n",
      "1          ! '    0.52778      0\n",
      "2         ! ''    0.50000      0\n",
      "3       ! Alas    0.44444      0\n",
      "4  ! Brilliant    0.86111      0\n"
     ]
    }
   ],
   "source": [
    "# Load in the dictionary dataset into a pandas df\n",
    "data_path = os.path.join(os.getcwd(), 'data', 'dictionary.txt')\n",
    "dic = pd.read_csv(data_path, sep='|', header=None)\n",
    "\n",
    "# ...and do the same with the sentiment_labels data\n",
    "data_path = os.path.join(os.getcwd(), 'data', 'sentiment_labels.txt')\n",
    "cents = pd.read_csv(data_path, sep='|')\n",
    "\n",
    "dic = dic.rename(columns={0: \"feature\", 1: \"ID\"})# We rename the columns\n",
    "# dic = dic.rename(index={range(239232)})\n",
    "dic = dic.sort_values(by=\"ID\") # We change the order of the rows to be sorted by ID number\n",
    "movie_data = dic[[\"ID\", \"feature\"]] # We change the order of the columns and change the name of the the df\n",
    "\n",
    "# We make an array of the sentiments (already in the right order) and add it to our df\n",
    "y = np.array(cents.iloc[:, -1])\n",
    "movie_data.insert(2, \"sentiment\", y)\n",
    "\n",
    "phrase_data = movie_data.sort_index()\n",
    "phrase_data.drop(\"ID\",axis=1,inplace=True)\n",
    "phrase_data.insert(2,\"label\",0)\n",
    "\n",
    "print(phrase_data.head())"
   ]
  },
  {
   "cell_type": "code",
   "execution_count": 3,
   "id": "92cc1869",
   "metadata": {},
   "outputs": [
    {
     "data": {
      "text/html": [
       "<div>\n",
       "<style scoped>\n",
       "    .dataframe tbody tr th:only-of-type {\n",
       "        vertical-align: middle;\n",
       "    }\n",
       "\n",
       "    .dataframe tbody tr th {\n",
       "        vertical-align: top;\n",
       "    }\n",
       "\n",
       "    .dataframe thead th {\n",
       "        text-align: right;\n",
       "    }\n",
       "</style>\n",
       "<table border=\"1\" class=\"dataframe\">\n",
       "  <thead>\n",
       "    <tr style=\"text-align: right;\">\n",
       "      <th></th>\n",
       "      <th>feature</th>\n",
       "      <th>sentiment</th>\n",
       "      <th>label</th>\n",
       "    </tr>\n",
       "  </thead>\n",
       "  <tbody>\n",
       "    <tr>\n",
       "      <th>85637</th>\n",
       "      <td>banter-filled comedy</td>\n",
       "      <td>0.65278</td>\n",
       "      <td>0</td>\n",
       "    </tr>\n",
       "    <tr>\n",
       "      <th>189235</th>\n",
       "      <td>slip into hokum . A Rumor of Angels does n't j...</td>\n",
       "      <td>0.44444</td>\n",
       "      <td>0</td>\n",
       "    </tr>\n",
       "    <tr>\n",
       "      <th>165101</th>\n",
       "      <td>of dealing with the subject</td>\n",
       "      <td>0.50000</td>\n",
       "      <td>0</td>\n",
       "    </tr>\n",
       "    <tr>\n",
       "      <th>68420</th>\n",
       "      <td>a precise and moving portrait of someone</td>\n",
       "      <td>0.79167</td>\n",
       "      <td>0</td>\n",
       "    </tr>\n",
       "    <tr>\n",
       "      <th>232814</th>\n",
       "      <td>wholesale ineptitude</td>\n",
       "      <td>0.40278</td>\n",
       "      <td>0</td>\n",
       "    </tr>\n",
       "  </tbody>\n",
       "</table>\n",
       "</div>"
      ],
      "text/plain": [
       "                                                  feature  sentiment  label\n",
       "85637                                banter-filled comedy    0.65278      0\n",
       "189235  slip into hokum . A Rumor of Angels does n't j...    0.44444      0\n",
       "165101                        of dealing with the subject    0.50000      0\n",
       "68420            a precise and moving portrait of someone    0.79167      0\n",
       "232814                               wholesale ineptitude    0.40278      0"
      ]
     },
     "execution_count": 3,
     "metadata": {},
     "output_type": "execute_result"
    }
   ],
   "source": [
    "### We create a smaller subsample of the dataset - to speed up the computation when working on our code\n",
    "\n",
    "# specify a smaller number of reviews\n",
    "small_N = 2390\n",
    "\n",
    "# choose small_N random and distinct integers between 0 and 239231\n",
    "rand = random.sample(range(239231), small_N)\n",
    "\n",
    "# find these indices in the original dictionary - and make a new array of them\n",
    "rand_sample = phrase_data.iloc[rand]\n",
    "\n",
    "rand_sample.head()"
   ]
  },
  {
   "cell_type": "code",
   "execution_count": 4,
   "id": "f1490168",
   "metadata": {},
   "outputs": [],
   "source": [
    "### We can use the random sample or the full data set going forward\n",
    "\n",
    "phrases = phrase_data\n",
    "# phrases = rand_sample"
   ]
  },
  {
   "cell_type": "code",
   "execution_count": 5,
   "id": "6f69f595",
   "metadata": {},
   "outputs": [],
   "source": [
    "### add correct labels based on sentiment column (uses qualities of numpy for efficiency)\n",
    "\n",
    "np_phrase = np.array(phrases) # make it a numpy array\n",
    "\n",
    "# create a series of boolean masks\n",
    "vpos = (0.8 < np_phrase[:, 1]).astype(int)\n",
    "pos =  (0.6 < np_phrase[:, 1]).astype(int)\n",
    "ntrl = (0.4 < np_phrase[:, 1]).astype(int)\n",
    "neg = (0.2 < np_phrase[:, 1]).astype(int)\n",
    "vneg = (0 <= np_phrase[:, 1]).astype(int)\n",
    "\n",
    "# add the masks together to get the correct label numbers for each review based on sentiment value\n",
    "labels = vneg + neg + ntrl + pos + vpos - 1\n",
    "\n",
    "# make a binary label class\n",
    "binary_labels = (0.5 >= np_phrase[:, 1]).astype(int)\n",
    "\n",
    "# update the array with our new values\n",
    "# np_phrase[:, 2] = labels\n",
    "np_phrase[:, 2] = binary_labels\n",
    "\n",
    "# change back to a pandas\n",
    "phrases = pd.DataFrame(np_phrase)"
   ]
  },
  {
   "cell_type": "code",
   "execution_count": 6,
   "id": "14c57c4f",
   "metadata": {},
   "outputs": [
    {
     "name": "stdout",
     "output_type": "stream",
     "text": [
      "0.7980473652960143\n"
     ]
    }
   ],
   "source": [
    "print(len(binary_labels[binary_labels == 0])/len(binary_labels[binary_labels == 1]))"
   ]
  },
  {
   "cell_type": "code",
   "execution_count": 7,
   "id": "ef6279b1",
   "metadata": {},
   "outputs": [],
   "source": [
    "# I'm commenting the below out cus it takes ages to run and ive got the model and embedding saved :)"
   ]
  },
  {
   "cell_type": "code",
   "execution_count": 8,
   "id": "5fb920c1",
   "metadata": {},
   "outputs": [],
   "source": [
    "import pickle\n",
    "### we are going to train our embedding model on the original review corpus\n",
    "### in the hope to capture more semantic information\n",
    "lemmatize = WordNetLemmatizer()\n",
    "# opening the file in read mode and reading the file\n",
    "orig_snip = open(\"original_rt_snippets.txt\")\n",
    "orig_snip = orig_snip.read()\n",
    "\n",
    "# spliting into separate lists for each line in the txt file\n",
    "orig_snip = orig_snip.split(\"\\n\")\n",
    "\n",
    "# looping over each review\n",
    "for i in range(len(orig_snip)):\n",
    "    \n",
    "    orig_snip[i] = orig_snip[i].lower() # lower case\n",
    "    \n",
    "    orig_snip[i] = re.sub(r'[^\\w]', \" \", orig_snip[i]) # remove all special characters\n",
    "    orig_snip[i] = re.sub(r'[\\d]', \" \", orig_snip[i]) # ...and numbers\n",
    "    \n",
    "    orig_snip[i] = nltk.word_tokenize(orig_snip[i]) # make each word an individual string, thus each review is a sublist\n",
    "    \n",
    "    orig_snip[i] = [word for word in orig_snip[i] if word not in stopwords.words(\"english\")] # removing stop-words\n",
    "    orig_snip[i] = [lemmatize.lemmatize(word) for word in orig_snip[i]] # lemmatizing (converting to the grammatical root)\n",
    "\n",
    "with open(\"clean_snippets.pkl\", \"wb\") as file:\n",
    "    pickle.dump(orig_snip, file)\n",
    "    file.close()"
   ]
  },
  {
   "cell_type": "code",
   "execution_count": 40,
   "id": "4cff5706",
   "metadata": {},
   "outputs": [],
   "source": [
    "orig_snip_clean_edit = orig_snip.copy() # copying the data to save having to run the last chunk again"
   ]
  },
  {
   "cell_type": "code",
   "execution_count": 41,
   "id": "1a0e4f20",
   "metadata": {},
   "outputs": [],
   "source": [
    "### We are going to remove the 50 most frequent words from the corpus - this should make our embedding more accurate\n",
    "topmost = 50\n",
    "\n",
    "word_counts = Counter(itertools.chain.from_iterable(orig_snip_clean_edit))  # counting each word in the corpus\n",
    "words_most_freq = [k for k, v in word_counts.most_common(topmost)] # getting a list of the top 50\n",
    "\n",
    "for i in range(len(orig_snip_clean_edit)): # looping over each review\n",
    "    \n",
    "    # Remove the most frequent words\n",
    "    orig_snip_clean_edit[i] = [word for word in orig_snip_clean_edit[i] if word not in words_most_freq]"
   ]
  },
  {
   "cell_type": "code",
   "execution_count": 42,
   "id": "6d55ddff",
   "metadata": {},
   "outputs": [
    {
     "name": "stderr",
     "output_type": "stream",
     "text": [
      "2022-11-20 20:04:35,813 : INFO : collecting all words and their counts\n",
      "2022-11-20 20:04:35,813 : INFO : PROGRESS: at sentence #0, processed 0 words, keeping 0 word types\n",
      "2022-11-20 20:04:35,852 : INFO : PROGRESS: at sentence #10000, processed 91346 words, keeping 15473 word types\n",
      "2022-11-20 20:04:35,854 : INFO : collected 15770 word types from a corpus of 95087 raw words and 10606 sentences\n",
      "2022-11-20 20:04:35,855 : INFO : Creating a fresh vocabulary\n",
      "2022-11-20 20:04:35,897 : INFO : Word2Vec lifecycle event {'msg': 'effective_min_count=5 retains 4172 unique words (26.455294863665188%% of original 15770, drops 11598)', 'datetime': '2022-11-20T20:04:35.897390', 'gensim': '4.1.2', 'python': '3.9.12 (main, Apr  4 2022, 05:22:27) [MSC v.1916 64 bit (AMD64)]', 'platform': 'Windows-10-10.0.22000-SP0', 'event': 'prepare_vocab'}\n",
      "2022-11-20 20:04:35,898 : INFO : Word2Vec lifecycle event {'msg': 'effective_min_count=5 leaves 75474 word corpus (79.37362625805841%% of original 95087, drops 19613)', 'datetime': '2022-11-20T20:04:35.898392', 'gensim': '4.1.2', 'python': '3.9.12 (main, Apr  4 2022, 05:22:27) [MSC v.1916 64 bit (AMD64)]', 'platform': 'Windows-10-10.0.22000-SP0', 'event': 'prepare_vocab'}\n",
      "2022-11-20 20:04:35,947 : INFO : deleting the raw counts dictionary of 15770 items\n",
      "2022-11-20 20:04:35,948 : INFO : sample=0.001 downsamples 0 most-common words\n",
      "2022-11-20 20:04:35,950 : INFO : Word2Vec lifecycle event {'msg': 'downsampling leaves estimated 75474 word corpus (100.0%% of prior 75474)', 'datetime': '2022-11-20T20:04:35.950395', 'gensim': '4.1.2', 'python': '3.9.12 (main, Apr  4 2022, 05:22:27) [MSC v.1916 64 bit (AMD64)]', 'platform': 'Windows-10-10.0.22000-SP0', 'event': 'prepare_vocab'}\n",
      "2022-11-20 20:04:36,014 : INFO : estimated required memory for 4172 words and 500 dimensions: 18774000 bytes\n",
      "2022-11-20 20:04:36,015 : INFO : resetting layer weights\n",
      "2022-11-20 20:04:36,032 : INFO : Word2Vec lifecycle event {'update': False, 'trim_rule': 'None', 'datetime': '2022-11-20T20:04:36.032264', 'gensim': '4.1.2', 'python': '3.9.12 (main, Apr  4 2022, 05:22:27) [MSC v.1916 64 bit (AMD64)]', 'platform': 'Windows-10-10.0.22000-SP0', 'event': 'build_vocab'}\n",
      "2022-11-20 20:04:36,033 : INFO : Word2Vec lifecycle event {'msg': 'training model with 3 workers on 4172 vocabulary and 500 features, using sg=0 hs=0 sample=0.001 negative=5 window=3 shrink_windows=True', 'datetime': '2022-11-20T20:04:36.033262', 'gensim': '4.1.2', 'python': '3.9.12 (main, Apr  4 2022, 05:22:27) [MSC v.1916 64 bit (AMD64)]', 'platform': 'Windows-10-10.0.22000-SP0', 'event': 'train'}\n",
      "2022-11-20 20:04:36,221 : INFO : worker thread finished; awaiting finish of 2 more threads\n",
      "2022-11-20 20:04:36,247 : INFO : worker thread finished; awaiting finish of 1 more threads\n",
      "2022-11-20 20:04:36,258 : INFO : worker thread finished; awaiting finish of 0 more threads\n",
      "2022-11-20 20:04:36,259 : INFO : EPOCH - 1 : training on 95087 raw words (75474 effective words) took 0.2s, 376818 effective words/s\n",
      "2022-11-20 20:04:36,454 : INFO : worker thread finished; awaiting finish of 2 more threads\n",
      "2022-11-20 20:04:36,476 : INFO : worker thread finished; awaiting finish of 1 more threads\n",
      "2022-11-20 20:04:36,490 : INFO : worker thread finished; awaiting finish of 0 more threads\n",
      "2022-11-20 20:04:36,491 : INFO : EPOCH - 2 : training on 95087 raw words (75474 effective words) took 0.2s, 342767 effective words/s\n",
      "2022-11-20 20:04:36,704 : INFO : worker thread finished; awaiting finish of 2 more threads\n",
      "2022-11-20 20:04:36,704 : INFO : worker thread finished; awaiting finish of 1 more threads\n",
      "2022-11-20 20:04:36,725 : INFO : worker thread finished; awaiting finish of 0 more threads\n",
      "2022-11-20 20:04:36,727 : INFO : EPOCH - 3 : training on 95087 raw words (75474 effective words) took 0.2s, 342893 effective words/s\n",
      "2022-11-20 20:04:36,728 : INFO : Word2Vec lifecycle event {'msg': 'training on 285261 raw words (226422 effective words) took 0.7s, 326157 effective words/s', 'datetime': '2022-11-20T20:04:36.728402', 'gensim': '4.1.2', 'python': '3.9.12 (main, Apr  4 2022, 05:22:27) [MSC v.1916 64 bit (AMD64)]', 'platform': 'Windows-10-10.0.22000-SP0', 'event': 'train'}\n",
      "2022-11-20 20:04:36,729 : INFO : Word2Vec lifecycle event {'params': 'Word2Vec(vocab=4172, vector_size=500, alpha=0.025)', 'datetime': '2022-11-20T20:04:36.729405', 'gensim': '4.1.2', 'python': '3.9.12 (main, Apr  4 2022, 05:22:27) [MSC v.1916 64 bit (AMD64)]', 'platform': 'Windows-10-10.0.22000-SP0', 'event': 'created'}\n",
      "2022-11-20 20:04:36,730 : INFO : Word2Vec lifecycle event {'fname_or_handle': 'word2vec_model', 'separately': 'None', 'sep_limit': 10485760, 'ignore': frozenset(), 'datetime': '2022-11-20T20:04:36.730400', 'gensim': '4.1.2', 'python': '3.9.12 (main, Apr  4 2022, 05:22:27) [MSC v.1916 64 bit (AMD64)]', 'platform': 'Windows-10-10.0.22000-SP0', 'event': 'saving'}\n",
      "2022-11-20 20:04:36,732 : INFO : not storing attribute cum_table\n",
      "2022-11-20 20:04:36,762 : INFO : saved word2vec_model\n"
     ]
    }
   ],
   "source": [
    "# importing genism modules and setting up logging\n",
    "import gensim, logging\n",
    "logging.basicConfig(format='%(asctime)s : %(levelname)s : %(message)s', level=logging.INFO)\n",
    "\n",
    "# create our model, specifying our hyperparameters\n",
    "word2vec = gensim.models.Word2Vec(orig_snip_clean_edit, epochs=3, min_count=5, window=3, vector_size=500)\n",
    "\n",
    "# saving the model\n",
    "word2vec.save('word2vec_model')"
   ]
  },
  {
   "cell_type": "code",
   "execution_count": 43,
   "id": "b944613a",
   "metadata": {},
   "outputs": [],
   "source": [
    "# word2vec = gensim.models.Word2Vec.load('word2vec_model')"
   ]
  },
  {
   "cell_type": "code",
   "execution_count": 44,
   "id": "92d664c9",
   "metadata": {},
   "outputs": [],
   "source": [
    "# word2vec.wv.most_similar(\"disney\", topn=10)"
   ]
  },
  {
   "cell_type": "code",
   "execution_count": 4,
   "id": "38bc4666",
   "metadata": {},
   "outputs": [
    {
     "ename": "AttributeError",
     "evalue": "'list' object has no attribute 'to_pickle'",
     "output_type": "error",
     "traceback": [
      "\u001b[1;31m---------------------------------------------------------------------------\u001b[0m",
      "\u001b[1;31mAttributeError\u001b[0m                            Traceback (most recent call last)",
      "Input \u001b[1;32mIn [4]\u001b[0m, in \u001b[0;36m<cell line: 22>\u001b[1;34m()\u001b[0m\n\u001b[0;32m     18\u001b[0m     dicti[i] \u001b[38;5;241m=\u001b[39m [word \u001b[38;5;28;01mfor\u001b[39;00m word \u001b[38;5;129;01min\u001b[39;00m dicti[i] \u001b[38;5;28;01mif\u001b[39;00m word \u001b[38;5;129;01mnot\u001b[39;00m \u001b[38;5;129;01min\u001b[39;00m stopwords\u001b[38;5;241m.\u001b[39mwords(\u001b[38;5;124m\"\u001b[39m\u001b[38;5;124menglish\u001b[39m\u001b[38;5;124m\"\u001b[39m)]\n\u001b[0;32m     19\u001b[0m     dicti[i] \u001b[38;5;241m=\u001b[39m [lemmatize\u001b[38;5;241m.\u001b[39mlemmatize(word) \u001b[38;5;28;01mfor\u001b[39;00m word \u001b[38;5;129;01min\u001b[39;00m dicti[i]]\n\u001b[1;32m---> 22\u001b[0m \u001b[43mdicti\u001b[49m\u001b[38;5;241;43m.\u001b[39;49m\u001b[43mto_pickle\u001b[49m(\u001b[38;5;124m\"\u001b[39m\u001b[38;5;124mclean_dictionary.pkl\u001b[39m\u001b[38;5;124m\"\u001b[39m)\n",
      "\u001b[1;31mAttributeError\u001b[0m: 'list' object has no attribute 'to_pickle'"
     ]
    }
   ],
   "source": [
    "### We clean the dictionary file as we did the original review corpus\n",
    "dicti = open(\"dictionary-Copy1.txt\")\n",
    "dicti = dicti.read()\n",
    "\n",
    "dicti = dicti.split(\"\\n\")\n",
    "\n",
    "lemmatize = WordNetLemmatizer()\n",
    "\n",
    "for i in range(len(dicti)):\n",
    "    \n",
    "    dicti[i] = dicti[i].lower()\n",
    "    \n",
    "    dicti[i] = re.sub(r'[^\\w]', \" \", dicti[i]) # remove all special characters\n",
    "    dicti[i] = re.sub(r'[\\d]', \" \", dicti[i]) # ...and numbers\n",
    "    \n",
    "    dicti[i] = nltk.word_tokenize(dicti[i])\n",
    "    \n",
    "    dicti[i] = [word for word in dicti[i] if word not in stopwords.words(\"english\")]\n",
    "    dicti[i] = [lemmatize.lemmatize(word) for word in dicti[i]]"
   ]
  },
  {
   "cell_type": "code",
   "execution_count": 5,
   "id": "cf447ce2",
   "metadata": {},
   "outputs": [],
   "source": [
    "dicti = pd.DataFrame(dicti)\n",
    "dicti.to_pickle(\"clean_dictionary.pkl\")"
   ]
  },
  {
   "cell_type": "code",
   "execution_count": 46,
   "id": "21ad8e76",
   "metadata": {},
   "outputs": [],
   "source": [
    "# Looks like we have an extra row on the end (no matter)"
   ]
  },
  {
   "cell_type": "code",
   "execution_count": 47,
   "id": "8d96c7b5",
   "metadata": {},
   "outputs": [
    {
     "data": {
      "text/plain": [
       "239233"
      ]
     },
     "execution_count": 47,
     "metadata": {},
     "output_type": "execute_result"
    }
   ],
   "source": [
    "len(dicti)"
   ]
  },
  {
   "cell_type": "code",
   "execution_count": 8,
   "id": "14ed933b",
   "metadata": {},
   "outputs": [
    {
     "ename": "TypeError",
     "evalue": "'int' object is not iterable",
     "output_type": "error",
     "traceback": [
      "\u001b[1;31m---------------------------------------------------------------------------\u001b[0m",
      "\u001b[1;31mTypeError\u001b[0m                                 Traceback (most recent call last)",
      "Input \u001b[1;32mIn [8]\u001b[0m, in \u001b[0;36m<cell line: 3>\u001b[1;34m()\u001b[0m\n\u001b[0;32m      1\u001b[0m \u001b[38;5;66;03m### We count the number of words in the original corpus and the dictionary and compare\u001b[39;00m\n\u001b[1;32m----> 3\u001b[0m word_count_dict \u001b[38;5;241m=\u001b[39m \u001b[43mCounter\u001b[49m\u001b[43m(\u001b[49m\u001b[43mitertools\u001b[49m\u001b[38;5;241;43m.\u001b[39;49m\u001b[43mchain\u001b[49m\u001b[38;5;241;43m.\u001b[39;49m\u001b[43mfrom_iterable\u001b[49m\u001b[43m(\u001b[49m\u001b[43mdicti\u001b[49m\u001b[43m)\u001b[49m\u001b[43m)\u001b[49m\n\u001b[0;32m      4\u001b[0m word_count_orig \u001b[38;5;241m=\u001b[39m Counter(itertools\u001b[38;5;241m.\u001b[39mchain\u001b[38;5;241m.\u001b[39mfrom_iterable(orig_snip))\n\u001b[0;32m      5\u001b[0m \u001b[38;5;28mprint\u001b[39m(\u001b[38;5;28mlen\u001b[39m(word_count_dict\u001b[38;5;241m.\u001b[39mmost_common()[\u001b[38;5;241m0\u001b[39m:]), \u001b[38;5;28mlen\u001b[39m(word_count_orig\u001b[38;5;241m.\u001b[39mmost_common()[\u001b[38;5;241m0\u001b[39m:]))\n",
      "File \u001b[1;32m~\\anaconda3\\lib\\collections\\__init__.py:593\u001b[0m, in \u001b[0;36mCounter.__init__\u001b[1;34m(self, iterable, **kwds)\u001b[0m\n\u001b[0;32m    582\u001b[0m \u001b[38;5;124;03m'''Create a new, empty Counter object.  And if given, count elements\u001b[39;00m\n\u001b[0;32m    583\u001b[0m \u001b[38;5;124;03mfrom an input iterable.  Or, initialize the count from another mapping\u001b[39;00m\n\u001b[0;32m    584\u001b[0m \u001b[38;5;124;03mof elements to their counts.\u001b[39;00m\n\u001b[1;32m   (...)\u001b[0m\n\u001b[0;32m    590\u001b[0m \n\u001b[0;32m    591\u001b[0m \u001b[38;5;124;03m'''\u001b[39;00m\n\u001b[0;32m    592\u001b[0m \u001b[38;5;28msuper\u001b[39m()\u001b[38;5;241m.\u001b[39m\u001b[38;5;21m__init__\u001b[39m()\n\u001b[1;32m--> 593\u001b[0m \u001b[38;5;28mself\u001b[39m\u001b[38;5;241m.\u001b[39mupdate(iterable, \u001b[38;5;241m*\u001b[39m\u001b[38;5;241m*\u001b[39mkwds)\n",
      "File \u001b[1;32m~\\anaconda3\\lib\\collections\\__init__.py:679\u001b[0m, in \u001b[0;36mCounter.update\u001b[1;34m(self, iterable, **kwds)\u001b[0m\n\u001b[0;32m    677\u001b[0m             \u001b[38;5;28msuper\u001b[39m()\u001b[38;5;241m.\u001b[39mupdate(iterable)\n\u001b[0;32m    678\u001b[0m     \u001b[38;5;28;01melse\u001b[39;00m:\n\u001b[1;32m--> 679\u001b[0m         \u001b[43m_count_elements\u001b[49m\u001b[43m(\u001b[49m\u001b[38;5;28;43mself\u001b[39;49m\u001b[43m,\u001b[49m\u001b[43m \u001b[49m\u001b[43miterable\u001b[49m\u001b[43m)\u001b[49m\n\u001b[0;32m    680\u001b[0m \u001b[38;5;28;01mif\u001b[39;00m kwds:\n\u001b[0;32m    681\u001b[0m     \u001b[38;5;28mself\u001b[39m\u001b[38;5;241m.\u001b[39mupdate(kwds)\n",
      "\u001b[1;31mTypeError\u001b[0m: 'int' object is not iterable"
     ]
    }
   ],
   "source": [
    "### We count the number of words in the original corpus and the dictionary and compare\n",
    "\n",
    "word_count_dict = Counter(itertools.chain.from_iterable(dicti))\n",
    "word_count_orig = Counter(itertools.chain.from_iterable(orig_snip))\n",
    "print(len(word_count_dict.most_common()[0:]), len(word_count_orig.most_common()[0:]))\n",
    "print(len([k for k, v in word_count_dict.most_common()[0:]]), len([k for k, v in word_count_orig.most_common()[0:]]))"
   ]
  },
  {
   "cell_type": "code",
   "execution_count": 49,
   "id": "7e68d592",
   "metadata": {},
   "outputs": [],
   "source": [
    "### We create a list of all the words in dictionary that arent in the original snippets corpus (270 spanish words)\n",
    "### looks like some spanish reviews are in the dictionary and not in the snippets\n",
    "odd_words = []\n",
    "for word in [k for k, v in word_count_dict.most_common()[:]]:\n",
    "    if word not in [k for k, v in word_count_orig.most_common()[:]]:\n",
    "        odd_words.append(word)"
   ]
  },
  {
   "cell_type": "code",
   "execution_count": 50,
   "id": "e8d62012",
   "metadata": {},
   "outputs": [],
   "source": [
    "### Our word2vec model removes all words which have less than 5 appearances in the corpus (we find a list of those words)\n",
    "\n",
    "word_count_orig_clean_edit = Counter(itertools.chain.from_iterable(orig_snip_clean_edit))\n",
    "below_min_count = [k for k,v in word_count_orig_clean_edit.most_common() if v < 5]"
   ]
  },
  {
   "cell_type": "code",
   "execution_count": 51,
   "id": "0ed605f2",
   "metadata": {},
   "outputs": [],
   "source": [
    "### We collate the lists of words our word2vec model doesn't have vectors for \n",
    "### (top 50 most frequent, below 5 counts, odd spanish words)\n",
    "\n",
    "for word in words_most_freq:\n",
    "    below_min_count.append(word)\n",
    "    \n",
    "for word in odd_words:\n",
    "    below_min_count.append(word)\n",
    "    \n",
    "bad_words = below_min_count"
   ]
  },
  {
   "cell_type": "code",
   "execution_count": 53,
   "id": "8f0bc323",
   "metadata": {},
   "outputs": [],
   "source": [
    "### We are going to embed each dictionary sentence by summing all the vectors of the contained words\n",
    "\n",
    "X_dicti = np.zeros([len(dicti)-1, 500]) # create an empty array\n",
    "\n",
    "# looping over all the rows of the dictionary (apart from the empty final one)\n",
    "for i in range(len(dicti)-1):\n",
    "    \n",
    "    sent_vec = 0 \n",
    "    \n",
    "    for word in dicti[i]: # for each word...\n",
    "        \n",
    "        if word not in bad_words: # ...if the word is contained in our word2vec model...\n",
    "            \n",
    "            word_vec = word2vec.wv.get_vector(word) #... we get its vector\n",
    "            \n",
    "            sent_vec += word_vec # ...and we sum them\n",
    "            \n",
    "    X_dicti[i] = sent_vec"
   ]
  },
  {
   "cell_type": "code",
   "execution_count": 73,
   "id": "fca0fcac",
   "metadata": {},
   "outputs": [],
   "source": [
    "# specify our label vector\n",
    "# y_values = labels \n",
    "y_values = binary_labels"
   ]
  },
  {
   "cell_type": "code",
   "execution_count": 74,
   "id": "26fa1f33",
   "metadata": {},
   "outputs": [],
   "source": [
    "# We add the labels\n",
    "X_wlabels = np.hstack((X_dicti, np.atleast_2d(y_values).T))"
   ]
  },
  {
   "cell_type": "code",
   "execution_count": 75,
   "id": "44a32b94",
   "metadata": {},
   "outputs": [],
   "source": [
    "# And remove empty rows (rows from which the above process removed everything)\n",
    "X_embed_wlabels = X_wlabels[~np.all(X_wlabels[:][:, :-1] == 0, axis=1)]"
   ]
  },
  {
   "cell_type": "code",
   "execution_count": 76,
   "id": "88e5d2ae",
   "metadata": {},
   "outputs": [],
   "source": [
    "# X_embed_wlabels = np.load('Embedding array.npy')"
   ]
  },
  {
   "cell_type": "code",
   "execution_count": 77,
   "id": "a9be4662",
   "metadata": {},
   "outputs": [],
   "source": [
    "# We save the array, and split into X and y\n",
    "np.save('Embedding array_binary', X_embed_wlabels, allow_pickle=True)\n",
    "X_embed = X_embed_wlabels[:][:, :-1]\n",
    "y_labels = X_embed_wlabels[:][:, -1]"
   ]
  },
  {
   "cell_type": "code",
   "execution_count": 78,
   "id": "c5276488",
   "metadata": {},
   "outputs": [
    {
     "name": "stdout",
     "output_type": "stream",
     "text": [
      "(145031, 500) (62157, 500) (145031,)\n"
     ]
    }
   ],
   "source": [
    "#split test and train\n",
    "\n",
    "x_train, x_test, y_train, y_test = train_test_split(X_embed, y_labels, test_size=0.3, random_state=1) # 70% training and 30% test\n",
    "print(x_train.shape,x_test.shape,y_train.ravel().shape)"
   ]
  },
  {
   "cell_type": "code",
   "execution_count": 1377,
   "id": "159a0d29",
   "metadata": {
    "scrolled": true
   },
   "outputs": [],
   "source": [
    "# #naive bayes\n",
    "# clf = MultinomialNB()\n",
    "# clf.fit(x_train,y_train)\n",
    "# print(clf.score(x_train,y_train))\n",
    "# print(clf.score(x_test,y_test))"
   ]
  },
  {
   "cell_type": "code",
   "execution_count": 10,
   "id": "06ca71aa",
   "metadata": {},
   "outputs": [
    {
     "data": {
      "image/png": "[encoded data removed]",
      "text/plain": [
       "<Figure size 720x720 with 2 Axes>"
      ]
     },
     "metadata": {
      "needs_background": "light"
     },
     "output_type": "display_data"
    }
   ],
   "source": [
    "#above not great, maybe add in a regulariser?\n",
    "\n",
    "#confusion matrix\n",
    "matrix = confusion_matrix(y_test,clf.predict(x_test), normalize='true')\n",
    "\n",
    "fig, ax = plt.subplots(figsize=(10, 10))\n",
    "sns.heatmap(matrix, annot=True) \n",
    "ax.set_xticklabels(labels)\n",
    "ax.set_yticklabels(labels)\n",
    "ax.set_xlabel('predicted')\n",
    "ax.set_ylabel('true')\n",
    "# plt.savefig(\"NB_confused.png\")\n",
    "plt.show()"
   ]
  },
  {
   "cell_type": "code",
   "execution_count": 15,
   "id": "c5fd6cd3",
   "metadata": {},
   "outputs": [],
   "source": [
    "# #random forest - grid search for optimal decision tree parameters -maybe try dif criterion\n",
    "# rf_dic={\n",
    "#     \"n_estimators\":[10,50,200,500],\n",
    "#     \"max_features\": [\"sqrt\",\"log2\"],\n",
    "#     \"criterion\": [\"gini\"],\n",
    "#     \"max_depth\": [4,8,30]\n",
    "#     }\n",
    "\n",
    "# rf = RandomForestClassifier(random_state=1)\n",
    "# grid_search = GridSearchCV(estimator=rf,param_grid=rf_dic,cv=3)\n",
    "# grid_search.fit(x_train,y_train)\n",
    "\n",
    "# print(\"the best parameters are: \" +str(grid_search.best_params_))\n",
    "\n",
    "# print(\"accuracy: \" + str(grid_search.best_estimator_.score(x_test, y_test)*100) + \"%\")"
   ]
  },
  {
   "cell_type": "code",
   "execution_count": 16,
   "id": "7fa1c900",
   "metadata": {},
   "outputs": [],
   "source": [
    "# #confusion matrix\n",
    "# matrix = confusion_matrix(y_test,grid_search.best_estimator_.predict(x_test), normalize='true')\n",
    "\n",
    "# fig, ax = plt.subplots(figsize=(10, 10))\n",
    "# sns.heatmap(matrix, annot=True) \n",
    "# ax.set_xticklabels(labels)\n",
    "# ax.set_yticklabels(labels)\n",
    "# ax.set_xlabel('predicted')\n",
    "# ax.set_ylabel('true')\n",
    "# # plt.savefig(\"RandForest_confused.png\")\n",
    "# plt.show()"
   ]
  },
  {
   "cell_type": "code",
   "execution_count": 80,
   "id": "d94e3d88",
   "metadata": {},
   "outputs": [
    {
     "name": "stdout",
     "output_type": "stream",
     "text": [
      "0.5808896029124808\n",
      "0.5790337371494764\n"
     ]
    }
   ],
   "source": [
    "#log reg\n",
    "\n",
    "clf2 = LogisticRegression()\n",
    "clf2.fit(x_train,y_train)\n",
    "print(clf2.score(x_train,y_train))\n",
    "print(clf2.score(x_test,y_test))\n",
    "\n",
    "matrix2 = confusion_matrix(y_test,clf2.predict(x_test), normalize='true')\n"
   ]
  },
  {
   "cell_type": "code",
   "execution_count": 82,
   "id": "e6d61533",
   "metadata": {},
   "outputs": [
    {
     "data": {
      "image/png": "[encoded data removed]",
      "text/plain": [
       "<Figure size 720x720 with 2 Axes>"
      ]
     },
     "metadata": {
      "needs_background": "light"
     },
     "output_type": "display_data"
    }
   ],
   "source": [
    "fig, ax = plt.subplots(figsize=(10, 10))\n",
    "sns.heatmap(matrix2, annot=True) \n",
    "\n",
    "# ax.set_xticklabels([0, 1, 2, 3, 4]) # ordinal\n",
    "# ax.set_yticklabels([0, 1, 2, 3, 4]) # ordinal\n",
    "\n",
    "ax.set_xticklabels([\"neg\", \"pos\"]) # binary\n",
    "ax.set_yticklabels([\"neg\", \"pos\"]) # binary\n",
    "\n",
    "ax.set_xlabel('predicted')\n",
    "ax.set_ylabel('true')\n",
    "# plt.savefig(\"logreg_confused.png\")\n",
    "plt.show()"
   ]
  },
  {
   "cell_type": "code",
   "execution_count": 67,
   "id": "263b7c8f",
   "metadata": {},
   "outputs": [
    {
     "name": "stdout",
     "output_type": "stream",
     "text": [
      "0.5143105362227907\n"
     ]
    }
   ],
   "source": [
    "from sklearn.neural_network import MLPClassifier\n",
    "\n",
    "clf_NN = MLPClassifier(solver='adam', alpha=1e-5, hidden_layer_sizes=(5, 5), random_state=1, max_iter=100000)\n",
    "\n",
    "clf_NN.fit(x_train, y_train)\n",
    "print(clf_NN.score(x_test, y_test))"
   ]
  },
  {
   "cell_type": "code",
   "execution_count": 83,
   "id": "d0a531da",
   "metadata": {},
   "outputs": [
    {
     "name": "stdout",
     "output_type": "stream",
     "text": [
      "0.6692729700596876\n"
     ]
    }
   ],
   "source": [
    "### binary labels\n",
    "\n",
    "clf_NN2 = MLPClassifier(solver='adam', alpha=1e-5, hidden_layer_sizes=(5, 5), random_state=1, max_iter=100000)\n",
    "\n",
    "clf_NN2.fit(x_train, y_train)\n",
    "print(clf_NN2.score(x_test, y_test))"
   ]
  },
  {
   "cell_type": "code",
   "execution_count": 87,
   "id": "c2560818",
   "metadata": {},
   "outputs": [
    {
     "data": {
      "image/png": "[encoded data removed]",
      "text/plain": [
       "<Figure size 720x720 with 2 Axes>"
      ]
     },
     "metadata": {
      "needs_background": "light"
     },
     "output_type": "display_data"
    }
   ],
   "source": [
    "matrix3 = confusion_matrix(y_test,clf_NN2.predict(x_test), normalize='true')\n",
    "\n",
    "fig, ax = plt.subplots(figsize=(10, 10))\n",
    "sns.heatmap(matrix3, annot=True) \n",
    "\n",
    "# ax.set_xticklabels([\"vneg\", \"neg\", \"ntrl\", \"pos\", \"vpos\"]) # ordinal\n",
    "# ax.set_yticklabels([\"vneg\", \"neg\", \"ntrl\", \"pos\", \"vpos\"])\n",
    "\n",
    "ax.set_xticklabels([\"neg\", \"pos\"]) # binary\n",
    "ax.set_yticklabels([\"neg\", \"pos\"])\n",
    "\n",
    "ax.set_xlabel('predicted')\n",
    "ax.set_ylabel('true')\n",
    "# plt.savefig(\"NN_confusion.png\")\n",
    "plt.show()"
   ]
  },
  {
   "cell_type": "code",
   "execution_count": 9,
   "id": "34656e0f",
   "metadata": {},
   "outputs": [],
   "source": [
    "import gensim\n",
    "\n",
    "practice_model = gensim.models.Word2Vec.load('Word2vec_model')"
   ]
  },
  {
   "cell_type": "code",
   "execution_count": 58,
   "id": "e056ed15",
   "metadata": {},
   "outputs": [
    {
     "data": {
      "text/plain": [
       "[('old', 0.8885629177093506),\n",
       " ('world', 0.8878587484359741),\n",
       " ('many', 0.8871873617172241),\n",
       " ('might', 0.8868736028671265),\n",
       " ('better', 0.8855153918266296),\n",
       " ('self', 0.8842716813087463),\n",
       " ('heart', 0.8831278085708618),\n",
       " ('real', 0.8830533623695374),\n",
       " ('people', 0.8824098706245422),\n",
       " ('kind', 0.882049560546875)]"
      ]
     },
     "execution_count": 58,
     "metadata": {},
     "output_type": "execute_result"
    }
   ],
   "source": [
    "practice_model.wv.most_similar(\"\", topn=10)"
   ]
  },
  {
   "cell_type": "code",
   "execution_count": null,
   "id": "0a50efc3",
   "metadata": {},
   "outputs": [],
   "source": []
  }
 ],
 "metadata": {
  "kernelspec": {
   "display_name": "Python 3 (ipykernel)",
   "language": "python",
   "name": "python3"
  },
  "language_info": {
   "codemirror_mode": {
    "name": "ipython",
    "version": 3
   },
   "file_extension": ".py",
   "mimetype": "text/x-python",
   "name": "python",
   "nbconvert_exporter": "python",
   "pygments_lexer": "ipython3",
   "version": "3.9.12"
  }
 },
 "nbformat": 4,
 "nbformat_minor": 5
}
