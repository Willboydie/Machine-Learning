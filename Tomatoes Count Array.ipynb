{
 "cells": [
  {
   "cell_type": "code",
   "execution_count": 2,
   "id": "0778102a",
   "metadata": {},
   "outputs": [
    {
     "name": "stderr",
     "output_type": "stream",
     "text": [
      "[nltk_data] Downloading package stopwords to C:\\Users\\Will\n",
      "[nltk_data]     Boyd\\AppData\\Roaming\\nltk_data...\n",
      "[nltk_data]   Package stopwords is already up-to-date!\n",
      "[nltk_data] Downloading package punkt to C:\\Users\\Will\n",
      "[nltk_data]     Boyd\\AppData\\Roaming\\nltk_data...\n",
      "[nltk_data]   Package punkt is already up-to-date!\n",
      "[nltk_data] Downloading package wordnet to C:\\Users\\Will\n",
      "[nltk_data]     Boyd\\AppData\\Roaming\\nltk_data...\n",
      "[nltk_data]   Package wordnet is already up-to-date!\n",
      "[nltk_data] Downloading package omw-1.4 to C:\\Users\\Will\n",
      "[nltk_data]     Boyd\\AppData\\Roaming\\nltk_data...\n",
      "[nltk_data]   Package omw-1.4 is already up-to-date!\n"
     ]
    }
   ],
   "source": [
    "import os\n",
    "import pandas as pd\n",
    "import numpy as np\n",
    "import random\n",
    "import sklearn\n",
    "from sklearn import metrics\n",
    "#import tensorflow as tf\n",
    "import matplotlib.pyplot as plt\n",
    "import seaborn as sns\n",
    "import os\n",
    "from sklearn.inspection import PartialDependenceDisplay\n",
    "from sklearn import tree\n",
    "from sklearn.tree import DecisionTreeClassifier, plot_tree\n",
    "from sklearn.tree import export_graphviz\n",
    "from sklearn.model_selection import train_test_split # Import train_test_split function\n",
    "from sklearn import metrics # Import scikit-learn metrics module for accuracy calculation\n",
    "from sklearn import preprocessing # Import preprocessing for String-Int conversion\n",
    "from sklearn.compose import ColumnTransformer\n",
    "from sklearn.preprocessing import OneHotEncoder, StandardScaler, MinMaxScaler\n",
    "from sklearn.model_selection import train_test_split\n",
    "from sklearn.ensemble import RandomForestClassifier\n",
    "from sklearn.metrics import confusion_matrix,ConfusionMatrixDisplay\n",
    "from sklearn.model_selection import GridSearchCV\n",
    "from sklearn.naive_bayes import MultinomialNB\n",
    "from sklearn.linear_model import LogisticRegression\n",
    "from sklearn.metrics import accuracy_score\n",
    "import re\n",
    "import nltk\n",
    "nltk.download('stopwords')\n",
    "nltk.download('punkt')\n",
    "from nltk.corpus import stopwords\n",
    "from nltk.tokenize import word_tokenize\n",
    "from sklearn.feature_extraction.text import CountVectorizer\n",
    "from nltk.stem import WordNetLemmatizer\n",
    "import nltk\n",
    "nltk.download('wordnet')\n",
    "nltk.download('omw-1.4')\n",
    "from collections import Counter\n",
    "import itertools"
   ]
  },
  {
   "cell_type": "code",
   "execution_count": 3,
   "id": "bfae88ff",
   "metadata": {},
   "outputs": [
    {
     "name": "stdout",
     "output_type": "stream",
     "text": [
      "       feature  sentiment  label\n",
      "0            !    0.50000      0\n",
      "1          ! '    0.52778      0\n",
      "2         ! ''    0.50000      0\n",
      "3       ! Alas    0.44444      0\n",
      "4  ! Brilliant    0.86111      0\n"
     ]
    }
   ],
   "source": [
    "# Load in the dictionary dataset into a pandas df\n",
    "data_path = os.path.join(os.getcwd(), 'data', 'dictionary.txt')\n",
    "dic = pd.read_csv(data_path, sep='|', header=None)\n",
    "\n",
    "# ...and do the same with the sentiment_labels data\n",
    "data_path = os.path.join(os.getcwd(), 'data', 'sentiment_labels.txt')\n",
    "cents = pd.read_csv(data_path, sep='|')\n",
    "\n",
    "dic = dic.rename(columns={0: \"feature\", 1: \"ID\"})# We rename the columns\n",
    "# dic = dic.rename(index={range(239232)})\n",
    "dic = dic.sort_values(by=\"ID\") # We change the order of the rows to be sorted by ID number\n",
    "movie_data = dic[[\"ID\", \"feature\"]] # We change the order of the columns and change the name of the the df\n",
    "\n",
    "# We make an array of the sentiments (already in the right order) and add it to our df\n",
    "y = np.array(cents.iloc[:, -1])\n",
    "movie_data.insert(2, \"sentiment\", y)\n",
    "\n",
    "phrase_data = movie_data.sort_index()\n",
    "phrase_data.drop(\"ID\",axis=1,inplace=True)\n",
    "phrase_data.insert(2,\"label\",0)\n",
    "\n",
    "print(phrase_data.head())"
   ]
  },
  {
   "cell_type": "code",
   "execution_count": 52,
   "id": "136ddb4d",
   "metadata": {},
   "outputs": [
    {
     "data": {
      "text/html": [
       "<div>\n",
       "<style scoped>\n",
       "    .dataframe tbody tr th:only-of-type {\n",
       "        vertical-align: middle;\n",
       "    }\n",
       "\n",
       "    .dataframe tbody tr th {\n",
       "        vertical-align: top;\n",
       "    }\n",
       "\n",
       "    .dataframe thead th {\n",
       "        text-align: right;\n",
       "    }\n",
       "</style>\n",
       "<table border=\"1\" class=\"dataframe\">\n",
       "  <thead>\n",
       "    <tr style=\"text-align: right;\">\n",
       "      <th></th>\n",
       "      <th>feature</th>\n",
       "      <th>sentiment</th>\n",
       "      <th>label</th>\n",
       "    </tr>\n",
       "  </thead>\n",
       "  <tbody>\n",
       "    <tr>\n",
       "      <th>120088</th>\n",
       "      <td>give him</td>\n",
       "      <td>0.50000</td>\n",
       "      <td>0</td>\n",
       "    </tr>\n",
       "    <tr>\n",
       "      <th>29254</th>\n",
       "      <td>Georgian-Israeli director Dover Kosashvili</td>\n",
       "      <td>0.50000</td>\n",
       "      <td>0</td>\n",
       "    </tr>\n",
       "    <tr>\n",
       "      <th>199826</th>\n",
       "      <td>that has all the elements necessary to be a fa...</td>\n",
       "      <td>0.37500</td>\n",
       "      <td>0</td>\n",
       "    </tr>\n",
       "    <tr>\n",
       "      <th>54969</th>\n",
       "      <td>There 's much tongue in cheek in the film and</td>\n",
       "      <td>0.47222</td>\n",
       "      <td>0</td>\n",
       "    </tr>\n",
       "    <tr>\n",
       "      <th>147381</th>\n",
       "      <td>kids-and-family-oriented</td>\n",
       "      <td>0.90278</td>\n",
       "      <td>0</td>\n",
       "    </tr>\n",
       "  </tbody>\n",
       "</table>\n",
       "</div>"
      ],
      "text/plain": [
       "                                                  feature  sentiment  label\n",
       "120088                                           give him    0.50000      0\n",
       "29254          Georgian-Israeli director Dover Kosashvili    0.50000      0\n",
       "199826  that has all the elements necessary to be a fa...    0.37500      0\n",
       "54969       There 's much tongue in cheek in the film and    0.47222      0\n",
       "147381                           kids-and-family-oriented    0.90278      0"
      ]
     },
     "execution_count": 52,
     "metadata": {},
     "output_type": "execute_result"
    }
   ],
   "source": [
    "### We create a smaller subsample of the dataset - to speed up the computation when working on our code\n",
    "\n",
    "# specify a smaller number of reviews\n",
    "small_N = 23920\n",
    "\n",
    "# choose small_N random and distinct integers between 0 and 239231\n",
    "rand = random.sample(range(239231), small_N)\n",
    "\n",
    "# find these indices in the original dictionary - and make a new array of them\n",
    "rand_sample = phrase_data.iloc[rand]\n",
    "\n",
    "rand_sample.head()"
   ]
  },
  {
   "cell_type": "code",
   "execution_count": 4,
   "id": "5526a9ad",
   "metadata": {},
   "outputs": [],
   "source": [
    "### We can use the random sample or the full data set going forward\n",
    "\n",
    "phrases = phrase_data\n",
    "# phrases = rand_sample"
   ]
  },
  {
   "cell_type": "code",
   "execution_count": 5,
   "id": "0c39256a",
   "metadata": {},
   "outputs": [],
   "source": [
    "### add correct labels based on sentiment column (uses qualities of numpy for efficiency)\n",
    "\n",
    "np_phrase = np.array(phrases) # make it a numpy array\n",
    "\n",
    "# create a series of boolean masks\n",
    "vpos = (0.8 < np_phrase[:, 1]).astype(int)\n",
    "pos =  (0.6 < np_phrase[:, 1]).astype(int)\n",
    "ntrl = (0.4 < np_phrase[:, 1]).astype(int)\n",
    "neg = (0.2 < np_phrase[:, 1]).astype(int)\n",
    "vneg = (0 <= np_phrase[:, 1]).astype(int)\n",
    "\n",
    "# add the masks together to get the correct label numbers for each review based on sentiment value\n",
    "h = vneg + neg + ntrl + pos + vpos - 1\n",
    "\n",
    "# update the array with our new values\n",
    "np_phrase[:, 2] = h\n",
    "\n",
    "# change back to a pandas\n",
    "phrases = pd.DataFrame(np_phrase)"
   ]
  },
  {
   "cell_type": "code",
   "execution_count": 6,
   "id": "98950293",
   "metadata": {},
   "outputs": [
    {
     "data": {
      "text/plain": [
       "0                                                         !\n",
       "1                                                       ! '\n",
       "2                                                      ! ''\n",
       "3                                                    ! Alas\n",
       "4                                               ! Brilliant\n",
       "                                ...                        \n",
       "239227    zoning ordinances to protect your community fr...\n",
       "239228                                            zzzzzzzzz\n",
       "239229                                                 élan\n",
       "239230                                                    É\n",
       "239231                     É um passatempo descompromissado\n",
       "Name: 0, Length: 239232, dtype: object"
      ]
     },
     "execution_count": 6,
     "metadata": {},
     "output_type": "execute_result"
    }
   ],
   "source": [
    "phrases.iloc[:, 0]"
   ]
  },
  {
   "cell_type": "code",
   "execution_count": 7,
   "id": "b23d65a2",
   "metadata": {},
   "outputs": [
    {
     "name": "stderr",
     "output_type": "stream",
     "text": [
      "C:\\Users\\Will Boyd\\AppData\\Local\\Temp\\ipykernel_26088\\3789690715.py:35: SettingWithCopyWarning: \n",
      "A value is trying to be set on a copy of a slice from a DataFrame\n",
      "\n",
      "See the caveats in the documentation: https://pandas.pydata.org/pandas-docs/stable/user_guide/indexing.html#returning-a-view-versus-a-copy\n",
      "  df.drop(\"index\",axis=1,inplace=True)\n"
     ]
    },
    {
     "name": "stdout",
     "output_type": "stream",
     "text": [
      "                                           0  2\n",
      "0                                      [ala]  2\n",
      "1                                [brilliant]  4\n",
      "2                                   [c, mon]  2\n",
      "3          [gollum, performance, incredible]  3\n",
      "4  [oh, look, clever, angle, wow, jump, cut]  1\n",
      "(149902, 2)\n"
     ]
    }
   ],
   "source": [
    "# Feature importance\n",
    "\n",
    "filler_words = set(stopwords.words('english'))\n",
    "lemmatize = WordNetLemmatizer()\n",
    "\n",
    "#values =[[0, 0.2], [0.2, 0.4], [0.4, 0.6], [0.6, 0.8], [0.8, 1.0]]\n",
    "labels = ['very negative', 'negative', 'neutral', 'positive', 'very positive']\n",
    "to_drop = []\n",
    "\n",
    "phrases_list = list(phrases.iloc[:, 0])\n",
    "\n",
    "for i in range(len(phrases_list)):\n",
    "    # 'clean' phrases: remove numbers, punctuation and filler words\n",
    "    phrase = phrases_list[i]\n",
    "    phrase = re.sub(r'[^\\w]', \" \", phrase) #remove all special characters \n",
    "    cleaned = re.sub(r'[\\d]', \" \", phrase)  #remove all numbers\n",
    "\n",
    "    if (cleaned.replace(\" \",\"\")==\"\"):\n",
    "        to_drop.append(i)\n",
    "        cleaned=\"\"\n",
    "    else:\n",
    "        cleaned = word_tokenize(cleaned.lower()) #tokenise for bag of words\n",
    "        cleaned = [w for w in cleaned if w not in filler_words] # #remove all filler words\n",
    "        cleaned = [lemmatize.lemmatize(word) for word in cleaned]\n",
    "    \n",
    "    phrases_list[i] = cleaned\n",
    "    \n",
    "phrases.iloc[:, 0] = phrases_list\n",
    "\n",
    "# remove unnecessary data\n",
    "phrases.drop(1,axis=1,inplace=True) \n",
    "phrases.drop(to_drop,axis=0,inplace=True)\n",
    "df = phrases[~phrases.astype(str).duplicated()]\n",
    "df.reset_index(inplace=True)\n",
    "df.drop(\"index\",axis=1,inplace=True)\n",
    "print(df.head())\n",
    "print(df.shape)\n",
    "\n",
    "#save this as file\n",
    "df.to_pickle(\"clean_doc.pkl\", protocol=4)\n",
    "# df.to_pickle(\"clean_phrase_data.pkl\")"
   ]
  },
  {
   "cell_type": "code",
   "execution_count": 9,
   "id": "4e9f50e6",
   "metadata": {},
   "outputs": [],
   "source": [
    "# convert phrases to numerical representation: bag of words\n",
    "phrases = pd.read_pickle(\"clean_rand_sample.pkl\") \n",
    "\n",
    "#split phrase datasets to x and y\n",
    "X = phrases.iloc[:, 0].copy()\n",
    "# y = phrases.iloc[:, 2].copy()\n",
    "\n",
    "# y = y.astype(int)\n",
    "# np.save(y, \"onehot_labels\")\n",
    "\n",
    "#create word vector \n",
    "vectorizer = CountVectorizer()\n",
    "vectorizerfit = vectorizer.fit_transform(X.astype(str))\n",
    "names = vectorizer.get_feature_names_out()\n",
    "count_array = vectorizerfit.toarray()\n",
    "vec = pd.DataFrame(data=count_array,columns=names)\n",
    "vec.to_pickle(\"onehot_matrix\", protocol=4)"
   ]
  },
  {
   "cell_type": "code",
   "execution_count": 23,
   "id": "c59859df",
   "metadata": {},
   "outputs": [
    {
     "name": "stdout",
     "output_type": "stream",
     "text": [
      "(15451, 14219) (6622, 14219) (15451,)\n"
     ]
    }
   ],
   "source": [
    "#split test and train\n",
    "\n",
    "x_train, x_test, y_train, y_test = train_test_split(vec, y, test_size=0.3, random_state=1) # 70% training and 30% test\n",
    "print(x_train.shape,x_test.shape,y_train.ravel().shape)"
   ]
  },
  {
   "cell_type": "code",
   "execution_count": 24,
   "id": "c3000279",
   "metadata": {},
   "outputs": [
    {
     "name": "stdout",
     "output_type": "stream",
     "text": [
      "0.753349297780079\n",
      "0.49773482331621866\n"
     ]
    }
   ],
   "source": [
    "#naive bayes\n",
    "clf = MultinomialNB()\n",
    "clf.fit(x_train,y_train)\n",
    "print(clf.score(x_train,y_train))\n",
    "print(clf.score(x_test,y_test))"
   ]
  },
  {
   "cell_type": "code",
   "execution_count": null,
   "id": "8aa7fd10",
   "metadata": {},
   "outputs": [],
   "source": [
    "#above not great, maybe add in a regulariser?\n",
    "\n",
    "#confusion matrix\n",
    "matrix = confusion_matrix(y_test,clf.predict(x_test), normalize='true')\n",
    "\n",
    "fig, ax = plt.subplots(figsize=(10, 10))\n",
    "sns.heatmap(matrix, annot=True) \n",
    "ax.set_xticklabels(labels)\n",
    "ax.set_yticklabels(labels)\n",
    "ax.set_xlabel('predicted')\n",
    "ax.set_ylabel('true')\n",
    "# plt.savefig(\"NB_confused.png\")\n",
    "plt.show()"
   ]
  },
  {
   "cell_type": "code",
   "execution_count": null,
   "id": "fd0b1622",
   "metadata": {},
   "outputs": [],
   "source": [
    "# #random forest - grid search for optimal decision tree parameters -maybe try dif criterion\n",
    "# rf_dic={\n",
    "#     \"n_estimators\":[10,50,200,500],\n",
    "#     \"max_features\": [\"sqrt\",\"log2\"],\n",
    "#     \"criterion\": [\"gini\"],\n",
    "#     \"max_depth\": [4,8,30]\n",
    "#     }\n",
    "\n",
    "# rf = RandomForestClassifier(random_state=1)\n",
    "# grid_search = GridSearchCV(estimator=rf,param_grid=rf_dic,cv=3)\n",
    "# grid_search.fit(x_train,y_train)\n",
    "\n",
    "# print(\"the best parameters are: \" +str(grid_search.best_params_))\n",
    "\n",
    "# print(\"accuracy: \" + str(grid_search.best_estimator_.score(x_test, y_test)*100) + \"%\")"
   ]
  },
  {
   "cell_type": "code",
   "execution_count": null,
   "id": "ac737fd6",
   "metadata": {},
   "outputs": [],
   "source": [
    "# #confusion matrix\n",
    "# matrix = confusion_matrix(y_test,grid_search.best_estimator_.predict(x_test), normalize='true')\n",
    "\n",
    "# fig, ax = plt.subplots(figsize=(10, 10))\n",
    "# sns.heatmap(matrix, annot=True) \n",
    "# ax.set_xticklabels(labels)\n",
    "# ax.set_yticklabels(labels)\n",
    "# ax.set_xlabel('predicted')\n",
    "# ax.set_ylabel('true')\n",
    "# # plt.savefig(\"RandForest_confused.png\")\n",
    "# plt.show()"
   ]
  },
  {
   "cell_type": "code",
   "execution_count": 25,
   "id": "3fe3d396",
   "metadata": {},
   "outputs": [
    {
     "name": "stderr",
     "output_type": "stream",
     "text": [
      "C:\\Users\\Will Boyd\\anaconda3\\lib\\site-packages\\sklearn\\linear_model\\_logistic.py:814: ConvergenceWarning: lbfgs failed to converge (status=1):\n",
      "STOP: TOTAL NO. of ITERATIONS REACHED LIMIT.\n",
      "\n",
      "Increase the number of iterations (max_iter) or scale the data as shown in:\n",
      "    https://scikit-learn.org/stable/modules/preprocessing.html\n",
      "Please also refer to the documentation for alternative solver options:\n",
      "    https://scikit-learn.org/stable/modules/linear_model.html#logistic-regression\n",
      "  n_iter_i = _check_optimize_result(\n"
     ]
    },
    {
     "name": "stdout",
     "output_type": "stream",
     "text": [
      "0.8106918646042327\n",
      "0.540169133192389\n"
     ]
    }
   ],
   "source": [
    "#log reg\n",
    "\n",
    "clf2 = LogisticRegression()\n",
    "clf2.fit(x_train,y_train)\n",
    "print(clf2.score(x_train,y_train))\n",
    "print(clf2.score(x_test,y_test))\n",
    "\n",
    "matrix2 = confusion_matrix(y_test,clf2.predict(x_test), normalize='true')"
   ]
  },
  {
   "cell_type": "code",
   "execution_count": 27,
   "id": "648635aa",
   "metadata": {},
   "outputs": [
    {
     "data": {
      "image/png": "[encoded data removed]",
      "text/plain": [
       "<Figure size 720x720 with 2 Axes>"
      ]
     },
     "metadata": {
      "needs_background": "light"
     },
     "output_type": "display_data"
    }
   ],
   "source": [
    "fig, ax = plt.subplots(figsize=(10, 10))\n",
    "sns.heatmap(matrix2, annot=True) \n",
    "ax.set_xticklabels([0, 1, 2, 3, 4])\n",
    "ax.set_yticklabels([0, 1, 2, 3, 4])\n",
    "ax.set_xlabel('predicted')\n",
    "ax.set_ylabel('true')\n",
    "# plt.savefig(\"logreg_confused.png\")\n",
    "plt.show()"
   ]
  },
  {
   "cell_type": "code",
   "execution_count": null,
   "id": "262abeb4",
   "metadata": {},
   "outputs": [],
   "source": []
  }
 ],
 "metadata": {
  "kernelspec": {
   "display_name": "Python 3 (ipykernel)",
   "language": "python",
   "name": "python3"
  },
  "language_info": {
   "codemirror_mode": {
    "name": "ipython",
    "version": 3
   },
   "file_extension": ".py",
   "mimetype": "text/x-python",
   "name": "python",
   "nbconvert_exporter": "python",
   "pygments_lexer": "ipython3",
   "version": "3.9.12"
  }
 },
 "nbformat": 4,
 "nbformat_minor": 5
}
